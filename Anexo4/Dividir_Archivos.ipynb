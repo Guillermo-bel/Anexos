{
  "nbformat": 4,
  "nbformat_minor": 0,
  "metadata": {
    "colab": {
      "name": "Dividir_Archivos.ipynb",
      "provenance": []
    },
    "kernelspec": {
      "name": "python3",
      "display_name": "Python 3"
    },
    "language_info": {
      "name": "python"
    }
  },
  "cells": [
    {
      "cell_type": "markdown",
      "metadata": {
        "id": "Og_xCImZhhOK"
      },
      "source": [
        "#En este Notebook se implementa el código para tomar los audios de los sonidos respiratorios y dividirlos en nuevos audios teniendo encuenta los cicos respiratorios"
      ]
    },
    {
      "cell_type": "markdown",
      "metadata": {
        "id": "kwyhqP9FkpmL"
      },
      "source": [
        "La base de datos An open access database for the evaluation of respiratory sound classification algorithms se encuentra disponible en https://bhichallenge.med.auth.gr/\n",
        "\n",
        "Link de descarga directa [Aqui](https://bhichallenge.med.auth.gr/sites/default/files/ICBHI_final_database/ICBHI_final_database.zip)"
      ]
    },
    {
      "cell_type": "markdown",
      "metadata": {
        "id": "u6YuhpNChYVf"
      },
      "source": [
        "## Descargar e Importar librerias"
      ]
    },
    {
      "cell_type": "code",
      "metadata": {
        "id": "Zz5mmh1QhQM4"
      },
      "source": [
        "!pip install pysoundfile"
      ],
      "execution_count": null,
      "outputs": []
    },
    {
      "cell_type": "code",
      "metadata": {
        "id": "DjtV6uMYieot"
      },
      "source": [
        "import pandas as pd\n",
        "import numpy as np\n",
        "import os\n",
        "import matplotlib.pyplot as plt\n",
        "from matplotlib.cbook import boxplot_stats\n",
        "import math\n",
        "import librosa as lb \n",
        "import soundfile as sf "
      ],
      "execution_count": null,
      "outputs": []
    },
    {
      "cell_type": "markdown",
      "metadata": {
        "id": "TP9l0E4Rl3E9"
      },
      "source": [
        "Para usar los archivos almacenados en Google Drive, se debe enlazar con la siguiente línea código"
      ]
    },
    {
      "cell_type": "code",
      "metadata": {
        "id": "9LHJh6G4mPbT"
      },
      "source": [
        "from google.colab import drive\n",
        "drive.mount(‘/content/gdrive’)"
      ],
      "execution_count": null,
      "outputs": []
    },
    {
      "cell_type": "markdown",
      "metadata": {
        "id": "_uCX-goam04u"
      },
      "source": [
        "Sí descargo el archivo desde el enlace se debe descomprimir"
      ]
    },
    {
      "cell_type": "code",
      "metadata": {
        "id": "LTyhAcg9m7wl"
      },
      "source": [
        "# Se descomprime los archivos\n",
        "from zipfile import ZipFile\n",
        "file_name = \"ACA VA LA RUTA DONDE ESTA LA BASE DE DATOS\" #aca se pone el archivo o la ruta\n",
        "with ZipFile(file_name, \"r\") as zip:\n",
        "  zip.extractall()\n",
        "  print(\"Completado\")"
      ],
      "execution_count": null,
      "outputs": []
    },
    {
      "cell_type": "markdown",
      "metadata": {
        "id": "MpYoD7XCnbAk"
      },
      "source": [
        "Se definen los directorios de los archivos, estas rutas pueden cambiar según la ubicación de los archivos"
      ]
    },
    {
      "cell_type": "code",
      "metadata": {
        "id": "PbSQCHotioyX"
      },
      "source": [
        "\n",
        "# El arvhivo de diagnóstico se encuentra en la base de datos con el nombre patien_diagnosis.csv\n",
        "diagnosticos_csv = '/content/respiratory_sound_database/Respiratory_Sound_Database/patient_diagnosis.csv'\n",
        "# Se define la ruta donde estan los archivos de audio en formato .wav\n",
        "audio_text_loc = '/content/respiratory_sound_database/Respiratory_Sound_Database/audio_and_txt_files'"
      ],
      "execution_count": null,
      "outputs": []
    },
    {
      "cell_type": "code",
      "metadata": {
        "id": "f55dCCIjsP4v"
      },
      "source": [
        "#se crea el directorio de salida, acá seran guardados los nuevos archivos\n",
        "os.makedirs('salida2')"
      ],
      "execution_count": null,
      "outputs": []
    },
    {
      "cell_type": "code",
      "metadata": {
        "id": "DyHMZp3uyCBn"
      },
      "source": [
        "# variable para longitud maxima de los audios\n",
        "max_lon = 6"
      ],
      "execution_count": null,
      "outputs": []
    },
    {
      "cell_type": "markdown",
      "metadata": {
        "id": "r7Y4KRkGlgJ1"
      },
      "source": [
        "#Funciones usadas"
      ]
    },
    {
      "cell_type": "code",
      "metadata": {
        "id": "NrEdMC-IjAx_"
      },
      "source": [
        "# Funcion para dividir el nombre del archivo \n",
        "def tokenize_file(filename):\n",
        "    return filename.split('_')\n",
        "\n",
        "# Función para dividir los archivos de audio\n",
        "# Código tomado y modificado de https://pypi.org/project/audio-slice/\n",
        "\n",
        "def dividir_audio(inicio, fin, raw_data,  sample_rate):\n",
        "    max_ind = len(raw_data) \n",
        "    inicio_ind = min(int(inicio * sample_rate), max_ind)\n",
        "    fin_ind = min(int(fin * sample_rate), max_ind)\n",
        "    return raw_data[inicio_ind: fin_ind]\n",
        "\n",
        "def compute_len(samp_rate=22050, time= 6, acquisition_mode=0):\n",
        "\n",
        "    comp_len = 0\n",
        "    if acquisition_mode == 1: #este se toma para sc (single channel) que se refiere a mono \n",
        "        comp_len = samp_rate * time\n",
        "    else: #estereo o mc\n",
        "        comp_len = (samp_rate * time) * 2\n",
        "\n",
        "    return comp_len"
      ],
      "execution_count": null,
      "outputs": []
    },
    {
      "cell_type": "markdown",
      "metadata": {
        "id": "Ni_nTGvblmmt"
      },
      "source": [
        "#Tratamiento de los archivos"
      ]
    },
    {
      "cell_type": "code",
      "metadata": {
        "id": "wWt0uoeziiQO"
      },
      "source": [
        "#Se carga el archivo diagnosis.csv y semiran los encabezados\n",
        "diagnosticos = pd.read_csv(diagnosticos_csv, names=['Id', 'diagnostico'])\n",
        "diagnosticos.head()"
      ],
      "execution_count": null,
      "outputs": []
    },
    {
      "cell_type": "code",
      "metadata": {
        "id": "fa6jIQx7oM2A"
      },
      "source": [
        "# Se revisa cuales son los diagnosticos que contiene la columna diagnostico\n",
        "ds = diagnosticos['diagnostico'].unique()\n",
        "ds"
      ],
      "execution_count": null,
      "outputs": []
    },
    {
      "cell_type": "markdown",
      "metadata": {
        "id": "d2lEqeAFocKq"
      },
      "source": [
        "Se leen los archivos de la carpeta destino y se guardan en una lista llamada archivos, para esto se revisa la extesión."
      ]
    },
    {
      "cell_type": "code",
      "metadata": {
        "id": "LOXzdnUaitnO"
      },
      "source": [
        "# Acá se van a obtener los archivos del directorio con extension .txt\n",
        "archivos = [s.split('.')[0] for s in os.listdir(path = audio_text_loc) if '.txt' in s]\n",
        "archivos "
      ],
      "execution_count": null,
      "outputs": []
    },
    {
      "cell_type": "markdown",
      "metadata": {
        "id": "KO-KMTpYo80T"
      },
      "source": [
        "Ahora con la lista de archivos, se lee cada uno para obtener la información, \n",
        "se hace un data frame (files_df) para guardar todos los datos y se guarda tambien como un csv"
      ]
    },
    {
      "cell_type": "code",
      "metadata": {
        "id": "nXNa0HkjovVL"
      },
      "source": [
        "#Se lee cada archivo, \n",
        "archivos_ = []\n",
        "for f in archivos:\n",
        "    df = pd.read_csv(audio_text_loc + '/' + f + '.txt', sep='\\t', names=['inicio', 'fin', 'crackles', 'wheezes']) \n",
        "    df['archivo'] = f\n",
        "    #Se divide cada archivo\n",
        "    f_features = tokenize_file(f)\n",
        "    df['Id'] = f_features[0]#df['pId'] = f_features[0]\n",
        "    df['modo_adquisicion'] = f_features[3]\n",
        "    archivos_.append(df)\n",
        "    \n",
        "archivos_df = pd.concat(archivos_)\n",
        "archivos_df.reset_index()\n",
        "#se imprime el encabezado del dataframe\n",
        "archivos_df.head()"
      ],
      "execution_count": null,
      "outputs": []
    },
    {
      "cell_type": "markdown",
      "metadata": {
        "id": "JVhT4gEWp9cn"
      },
      "source": [
        "Se une la columna de diagnóstico al dataframe archivos_df"
      ]
    },
    {
      "cell_type": "code",
      "metadata": {
        "id": "pZ6TnNP8prxQ"
      },
      "source": [
        "archivos_df['Id'] = archivos_df['Id'].astype('float64') # se hace el cambio del tipo de variable A float64\n",
        "archivos_df = pd.merge(archivos_df, diagnosticos, on='Id') # se unen los dos dataframes\n",
        "archivos_df.head() # se revisa el encabezado"
      ],
      "execution_count": null,
      "outputs": []
    },
    {
      "cell_type": "code",
      "metadata": {
        "id": "UHCt7r1uqXGM"
      },
      "source": [
        "#Esta Linea de código se usa para guardar el archivo en formato .zip\n",
        "compression_opts = dict(method='zip',\n",
        "                        archive_name='out.csv')  \n",
        "archivos_df.to_csv('out.zip', index=False,\n",
        "          compression=compression_opts)\n",
        "# El archivo de salida lo puedeencontrar en la carpeta Anexo 4"
      ],
      "execution_count": null,
      "outputs": []
    },
    {
      "cell_type": "markdown",
      "metadata": {
        "id": "TFEHcwlGs73I"
      },
      "source": [
        "Se crean las sub carpetas de los diagnósticos"
      ]
    },
    {
      "cell_type": "code",
      "metadata": {
        "id": "yg0dAkGsqRxz"
      },
      "source": [
        "# ds hace referencia a los posibles diagnósticos\n",
        "for d in ds:\n",
        "    path = os.path.join('salida2', d)\n",
        "    os.makedirs(path)"
      ],
      "execution_count": null,
      "outputs": []
    },
    {
      "cell_type": "markdown",
      "metadata": {
        "id": "Ao84diO7tUwt"
      },
      "source": [
        "# Se dividen los archivos"
      ]
    },
    {
      "cell_type": "markdown",
      "metadata": {
        "id": "dR8GthzMwLbd"
      },
      "source": [
        "Para dividir los archivos se reccorre las caracteristicas de las anotaciones, donde estan el inicio y final de cada ciclo respiratorio, el diagnostico correspondiente y el nombre del archivo"
      ]
    },
    {
      "cell_type": "code",
      "metadata": {
        "id": "YXYLmEUTtY0z"
      },
      "source": [
        "i = 0 #Se pone en cero para que al cambiar vaya nombrando el archivo\n",
        "\n",
        "for idx, row in archivos_df.iterrows():\n",
        "    inicio = row['inicio']\n",
        "    fin = row['fin']\n",
        "    filename = row['archivo']\n",
        "    diag = row['diagnostico']\n",
        "#Aca revisa la longitud del archivo y lo acota a 6s \n",
        "    if max_lon < fin - inicio:\n",
        "        fin = inicio + max_lon\n",
        "    audio_dir = audio_text_loc + '/' + f + '.wav'\n",
        "    if idx != 0:\n",
        "        if archivos_df.iloc[idx-1]['archivo'] == filename:\n",
        "            i=i+1\n",
        "        else:\n",
        "            i=0\n",
        "    n_filename = filename + '_' + str(i) + '.wav'\n",
        "    path = 'salida2/' + diag + '/' + n_filename\n",
        "    print('procesando audio ' + n_filename + '...')\n",
        "\n",
        "    data, samplingrate = lb.load(audio_dir)\n",
        "    audio_div = dividir_audio(start=inicio, end=fin, raw_data=data, sample_rate=samplingrate)\n",
        "    a_len = compute_len(samp_rate=samplingrate, acquisition_mode=row['modo_adquisicion']=='sc')\n",
        "    padded_data = lb.util.pad_center(audio_div, a_len)\n",
        "    sf.write(file=path, data=padded_data, samplerate=samplingrate)"
      ],
      "execution_count": null,
      "outputs": []
    }
  ]
}