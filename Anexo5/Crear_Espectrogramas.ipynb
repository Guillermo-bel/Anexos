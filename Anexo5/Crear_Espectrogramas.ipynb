{
  "nbformat": 4,
  "nbformat_minor": 0,
  "metadata": {
    "kernelspec": {
      "language": "python",
      "display_name": "Python 3",
      "name": "python3"
    },
    "language_info": {
      "pygments_lexer": "ipython3",
      "nbconvert_exporter": "python",
      "version": "3.6.4",
      "file_extension": ".py",
      "codemirror_mode": {
        "name": "ipython",
        "version": 3
      },
      "name": "python",
      "mimetype": "text/x-python"
    },
    "colab": {
      "name": "Crear Espectrogramas.ipynb",
      "provenance": []
    }
  },
  "cells": [
    {
      "cell_type": "markdown",
      "metadata": {
        "id": "IpjcqhBuFME2"
      },
      "source": [
        "#En este Notebook se realizan los espectrogramas a partir de los audios usando. [Librosa](https://librosa.org/doc/main/generated/librosa.feature.melspectrogram.html)\n"
      ]
    },
    {
      "cell_type": "markdown",
      "metadata": {
        "id": "uMqnQi5unQGz"
      },
      "source": [
        "Se imporlan las librerias necesarias, se enlaza con Google Drive y se crean los directorios necesarios."
      ]
    },
    {
      "cell_type": "code",
      "metadata": {
        "id": "87_O2kTTGEjw"
      },
      "source": [
        "import os\n",
        "from os import listdir\n",
        "from os.path import isfile, join\n",
        "import pandas as pd\n",
        "import librosa as lb\n",
        "from librosa.display import specshow\n",
        "import matplotlib.pyplot as plt\n",
        "import numpy as np"
      ],
      "execution_count": null,
      "outputs": []
    },
    {
      "cell_type": "code",
      "metadata": {
        "colab": {
          "base_uri": "https://localhost:8080/"
        },
        "id": "PNXOsFLCK_xx",
        "outputId": "bc2760f9-7534-4fcf-d5eb-97a416cceae2"
      },
      "source": [
        "from google.colab import drive\n",
        "drive.mount('/content/drive')"
      ],
      "execution_count": null,
      "outputs": [
        {
          "output_type": "stream",
          "text": [
            "Mounted at /content/drive\n"
          ],
          "name": "stdout"
        }
      ]
    },
    {
      "cell_type": "code",
      "metadata": {
        "id": "PUh7TWYYGaDU"
      },
      "source": [
        "# se crean los nuevos directorios acá van a ir las imagenes\n",
        "os.makedirs('imagenes')\n",
        "os.makedirs('imagenes/train')\n",
        "os.makedirs('imagenes/test')"
      ],
      "execution_count": null,
      "outputs": []
    },
    {
      "cell_type": "code",
      "metadata": {
        "id": "5Ds0r9GJG22S"
      },
      "source": [
        "# El directorio donde se guardaron los audios\n",
        "archivos_loc = '/content/drive/MyDrive/salida2/'\n",
        "diagnostico_csv ='/content/Respiratory_Sound_Database/Respiratory_Sound_Database/patient_diagnostico.csv' # el archivo de diagnostico\n",
        "direc_desti = '/content/drive/MyDrive/imagenes/'\n",
        "c = 'train'\n",
        "carp = ['train', 'test']"
      ],
      "execution_count": null,
      "outputs": []
    },
    {
      "cell_type": "code",
      "metadata": {
        "colab": {
          "base_uri": "https://localhost:8080/",
          "height": 204
        },
        "id": "OpvTCV_iHQeo",
        "outputId": "bb50ab9a-5a80-43b3-9e28-32e3defa0ea6"
      },
      "source": [
        "# Se carga el csv de diagnóstico para tomar los diferentes\n",
        "diagnostico = pd.read_csv(diagnostico_csv, names=['pId', 'diagnostico'])\n",
        "diagnostico.head()"
      ],
      "execution_count": null,
      "outputs": [
        {
          "output_type": "execute_result",
          "data": {
            "text/html": [
              "<div>\n",
              "<style scoped>\n",
              "    .dataframe tbody tr th:only-of-type {\n",
              "        vertical-align: middle;\n",
              "    }\n",
              "\n",
              "    .dataframe tbody tr th {\n",
              "        vertical-align: top;\n",
              "    }\n",
              "\n",
              "    .dataframe thead th {\n",
              "        text-align: right;\n",
              "    }\n",
              "</style>\n",
              "<table border=\"1\" class=\"dataframe\">\n",
              "  <thead>\n",
              "    <tr style=\"text-align: right;\">\n",
              "      <th></th>\n",
              "      <th>pId</th>\n",
              "      <th>diagnosis</th>\n",
              "    </tr>\n",
              "  </thead>\n",
              "  <tbody>\n",
              "    <tr>\n",
              "      <th>0</th>\n",
              "      <td>101</td>\n",
              "      <td>URTI</td>\n",
              "    </tr>\n",
              "    <tr>\n",
              "      <th>1</th>\n",
              "      <td>102</td>\n",
              "      <td>Healthy</td>\n",
              "    </tr>\n",
              "    <tr>\n",
              "      <th>2</th>\n",
              "      <td>103</td>\n",
              "      <td>Asthma</td>\n",
              "    </tr>\n",
              "    <tr>\n",
              "      <th>3</th>\n",
              "      <td>104</td>\n",
              "      <td>COPD</td>\n",
              "    </tr>\n",
              "    <tr>\n",
              "      <th>4</th>\n",
              "      <td>105</td>\n",
              "      <td>URTI</td>\n",
              "    </tr>\n",
              "  </tbody>\n",
              "</table>\n",
              "</div>"
            ],
            "text/plain": [
              "   pId diagnosis\n",
              "0  101      URTI\n",
              "1  102   Healthy\n",
              "2  103    Asthma\n",
              "3  104      COPD\n",
              "4  105      URTI"
            ]
          },
          "metadata": {
            "tags": []
          },
          "execution_count": 28
        }
      ]
    },
    {
      "cell_type": "code",
      "metadata": {
        "colab": {
          "base_uri": "https://localhost:8080/"
        },
        "id": "xhy8trvsHzC1",
        "outputId": "e9ae6b35-bdf7-4bf7-9235-30ba870a994a"
      },
      "source": [
        "categorias = diagnostico['diagnostico'].unique()\n",
        "print (categorias)"
      ],
      "execution_count": null,
      "outputs": [
        {
          "output_type": "execute_result",
          "data": {
            "text/plain": [
              "array(['URTI', 'Healthy', 'Asthma', 'COPD', 'LRTI', 'Bronchiectasis',\n",
              "       'Pneumonia', 'Bronchiolitis'], dtype=object)"
            ]
          },
          "metadata": {
            "tags": []
          },
          "execution_count": 29
        }
      ]
    },
    {
      "cell_type": "markdown",
      "metadata": {
        "id": "oK80ijS_oZR8"
      },
      "source": [
        "Se recorre un listado de los diagnosticos para crear las sub carpetas"
      ]
    },
    {
      "cell_type": "code",
      "metadata": {
        "id": "7-BctUR4H9yG"
      },
      "source": [
        "for cat in categorias:\n",
        "    os.makedirs('imagenes/train/' + cat)\n",
        "    os.makedirs('imagenes/test/' + cat)"
      ],
      "execution_count": null,
      "outputs": []
    },
    {
      "cell_type": "markdown",
      "metadata": {
        "id": "03yaeNbnnvpC"
      },
      "source": [
        "#Se crean los espectrogramas"
      ]
    },
    {
      "cell_type": "markdown",
      "metadata": {
        "id": "D9z9s1jVIqqM"
      },
      "source": [
        "La siguiente parte toma cada archivo y lo transforma en un espectograma el cual va a ser guardado en el directorio imagenes"
      ]
    },
    {
      "cell_type": "code",
      "metadata": {
        "id": "zgJMBnOdI8bV"
      },
      "source": [
        "#Crea el espectograma usando librosa y las guarda como png\n",
        "def create_spec(archivos_loc, filename, category, is_test=False, verbose=False):\n",
        "    train_ = 'train/'\n",
        "    test_ = 'test/'\n",
        "    loc = archivos_loc + train_ + category + '/' + filename\n",
        "    if is_test == False:\n",
        "        loc = archivos_loc + test_ + category + '/' + filename\n",
        "    if verbose == True:\n",
        "        print('leyendo y convirtiendo ' + filename + '...')        \n",
        "    y, sr = lb.load(loc, sr=None, offset=0.0, duration=None)\n",
        "\n",
        "#Grafica la señal\n",
        "    plt.figure(figsize=(10,3))\n",
        "    src_ft = lb.stft(y)\n",
        "    src_db = lb.amplitude_to_db(abs(src_ft))\n",
        "    specshow(src_db, sr=sr, x_axis='time', y_axis='hz')  \n",
        "    plt.ylim(0, 5000) # la escala que va a tener la imagen en y\n",
        "    filename_img = filename.split('.wav')[0]\n",
        "    dest = direc_desti + train_ + category + '/' + filename_img + '.png'\n",
        "    if is_train == False:\n",
        "        dest = direc_desti + test_ + category + '/' + filename_img + '.png'       \n",
        "    plt.savefig(dest)    \n",
        "    if verbose == True:\n",
        "        print('imagen realizada')        \n",
        "    plt.close()"
      ],
      "execution_count": null,
      "outputs": []
    },
    {
      "cell_type": "markdown",
      "metadata": {
        "id": "EF9UguSTJngX"
      },
      "source": [
        "Se guardan las imagenes"
      ]
    },
    {
      "cell_type": "code",
      "metadata": {
        "id": "ODhjKDe8Ijk9"
      },
      "source": [
        "for s in carp:\n",
        "    for cat in categorias:\n",
        "        files = [f for f in listdir(archivos_loc + s + '/' + cat + '/') if isfile(join(archivos_loc + s + '/' + cat + '/', f)) ]\n",
        "        for f in files:\n",
        "          create_spec(file_loc = archivos_loc, category=cat, filename=f, is_train=(s == c), verbose=True)"
      ],
      "execution_count": null,
      "outputs": []
    }
  ]
}